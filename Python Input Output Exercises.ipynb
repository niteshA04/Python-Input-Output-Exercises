{
 "cells": [
  {
   "cell_type": "markdown",
   "id": "ae961878",
   "metadata": {},
   "source": [
    "# Exercise 1: Accept numbers from a user\n",
    "#### Write a program to accept two numbers from the user and calculate multiplication"
   ]
  },
  {
   "cell_type": "code",
   "execution_count": 1,
   "id": "e11aa1ca",
   "metadata": {},
   "outputs": [
    {
     "name": "stdout",
     "output_type": "stream",
     "text": [
      "Enter the numbers: 12\n",
      "Enter the numbers: 23\n",
      "The numbers enter by you are: 12 23\n"
     ]
    }
   ],
   "source": [
    "num1 = input(\"Enter the numbers: \")\n",
    "num2 = input(\"Enter the numbers: \")\n",
    "\n",
    "print(\"The numbers enter by you are:\", num1, num2)"
   ]
  },
  {
   "cell_type": "markdown",
   "id": "63afdf55",
   "metadata": {},
   "source": [
    "# Exercise 2: Display three string “Name”, “Is”, “James” as “Name** Is** James”"
   ]
  },
  {
   "cell_type": "code",
   "execution_count": 2,
   "id": "3d470c8d",
   "metadata": {},
   "outputs": [
    {
     "name": "stdout",
     "output_type": "stream",
     "text": [
      "Name**is**James\n"
     ]
    }
   ],
   "source": [
    "print(\"Name\", \"is\", \"James\", sep='**')"
   ]
  },
  {
   "cell_type": "markdown",
   "id": "a97e0b14",
   "metadata": {},
   "source": [
    "# Exercise 3: Convert Decimal number to octal using print() output formatting"
   ]
  },
  {
   "cell_type": "code",
   "execution_count": 3,
   "id": "1e7e1687",
   "metadata": {},
   "outputs": [
    {
     "name": "stdout",
     "output_type": "stream",
     "text": [
      "The octol number is: 12\n"
     ]
    }
   ],
   "source": [
    "num = 10\n",
    "print(\"The octol number is: \"'%o' % num)"
   ]
  },
  {
   "cell_type": "markdown",
   "id": "321d38e4",
   "metadata": {},
   "source": [
    "# Exercise 4: Display float number with 2 decimal places using print()"
   ]
  },
  {
   "cell_type": "code",
   "execution_count": 4,
   "id": "6710fcd0",
   "metadata": {},
   "outputs": [
    {
     "name": "stdout",
     "output_type": "stream",
     "text": [
      "458.54\n"
     ]
    }
   ],
   "source": [
    "n = 458.541315\n",
    "print(round(n,2))"
   ]
  },
  {
   "cell_type": "markdown",
   "id": "3df974ef",
   "metadata": {},
   "source": [
    "# Exercise 5: Accept a list of 5 float numbers as an input from the user"
   ]
  },
  {
   "cell_type": "code",
   "execution_count": 1,
   "id": "a5b1537e",
   "metadata": {},
   "outputs": [
    {
     "name": "stdout",
     "output_type": "stream",
     "text": [
      "Enter the number of elements: 3\n",
      "Enter the elements: 123\n",
      "Enter the elements: 34\n",
      "Enter the elements: 21\n",
      "Your list is:  [123.0, 34.0, 21.0]\n"
     ]
    }
   ],
   "source": [
    "list_inp = []\n",
    "n = int(input(\"Enter the number of elements: \"))\n",
    "\n",
    "for i in range(n):\n",
    "    ele = float(input(\"Enter the elements: \"))\n",
    "    list_inp.append(ele)\n",
    "    \n",
    "print(\"Your list is: \", list_inp)"
   ]
  },
  {
   "cell_type": "markdown",
   "id": "6370260a",
   "metadata": {},
   "source": [
    "# Exercise 6 Accept any three string from one input() call"
   ]
  },
  {
   "cell_type": "code",
   "execution_count": 4,
   "id": "82b7c418",
   "metadata": {},
   "outputs": [
    {
     "name": "stdout",
     "output_type": "stream",
     "text": [
      "Enter your name age and height: Python 10 176\n",
      "Name:  Python\n",
      "Age:  10\n",
      "Height:  176\n"
     ]
    }
   ],
   "source": [
    "name, age, height = input(\"Enter your name age and height: \").split()\n",
    "print(\"Name: \", name)\n",
    "print(\"Age: \", age)\n",
    "print(\"Height: \", height)"
   ]
  },
  {
   "cell_type": "markdown",
   "id": "0e240b99",
   "metadata": {},
   "source": [
    "# Exercise 7: Format variables using a string.format() method."
   ]
  },
  {
   "cell_type": "code",
   "execution_count": 7,
   "id": "ca1d9351",
   "metadata": {},
   "outputs": [
    {
     "name": "stdout",
     "output_type": "stream",
     "text": [
      "I have 1000 rupees and I can buy 2 footballs of worth 450 rupees each\n"
     ]
    }
   ],
   "source": [
    "totalMoney = 1000\n",
    "quantity = 2\n",
    "price = 450\n",
    "\n",
    "join_statement = \"I have {0} rupees and I can buy {1} footballs of worth {2} rupees each\"\n",
    "print(join_statement.format(totalMoney, quantity, price))"
   ]
  }
 ],
 "metadata": {
  "kernelspec": {
   "display_name": "Python 3",
   "language": "python",
   "name": "python3"
  },
  "language_info": {
   "codemirror_mode": {
    "name": "ipython",
    "version": 3
   },
   "file_extension": ".py",
   "mimetype": "text/x-python",
   "name": "python",
   "nbconvert_exporter": "python",
   "pygments_lexer": "ipython3",
   "version": "3.8.8"
  }
 },
 "nbformat": 4,
 "nbformat_minor": 5
}
